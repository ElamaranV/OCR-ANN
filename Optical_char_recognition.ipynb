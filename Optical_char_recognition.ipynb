{
 "cells": [
  {
   "cell_type": "code",
   "execution_count": 7,
   "id": "77ebff11",
   "metadata": {},
   "outputs": [],
   "source": [
    "import numpy as np\n",
    "import pandas as pd\n",
    "import matplotlib.pyplot as plt\n",
    "from sklearn.preprocessing import LabelEncoder\n",
    "from sklearn.metrics import confusion_matrix\n",
    "from sklearn.metrics import classification_report\n",
    "from sklearn.model_selection import train_test_split\n"
   ]
  },
  {
   "cell_type": "code",
   "execution_count": 3,
   "id": "3b513974",
   "metadata": {},
   "outputs": [],
   "source": [
    "data = pd.read_csv(r\"C:\\Users\\elama\\OneDrive\\Documents\\MachineLearning/94_character_TMNIST.csv\")"
   ]
  },
  {
   "cell_type": "code",
   "execution_count": 5,
   "id": "9b370d22",
   "metadata": {},
   "outputs": [
    {
     "data": {
      "image/png": "[encoded data removed]",
      "text/plain": [
       "<Figure size 1000x400 with 10 Axes>"
      ]
     },
     "metadata": {},
     "output_type": "display_data"
    }
   ],
   "source": [
    "head = data.head(10)\n",
    "\n",
    "plt.figure(figsize=(10, 4))\n",
    "for i in range(10):\n",
    "    pixels = head.iloc[i, 2:].values.astype(np.uint8).reshape((28, 28))\n",
    "    \n",
    "    label = head.iloc[i, 1]\n",
    "    font_name = head.iloc[i, 0]\n",
    "    \n",
    "    plt.subplot(2, 5, i+1)\n",
    "    plt.imshow(pixels, cmap='gray')\n",
    "    plt.title(f\"{label}\")\n",
    "    plt.axis('off')\n",
    "\n",
    "plt.tight_layout()\n",
    "plt.show()"
   ]
  },
  {
   "cell_type": "code",
   "execution_count": 9,
   "id": "f0c4ee4b",
   "metadata": {},
   "outputs": [
    {
     "name": "stdout",
     "output_type": "stream",
     "text": [
      "Test accuracy: 80.36%\n"
     ]
    }
   ],
   "source": [
    "X = data.iloc[:, 2:].values / 255.0  # Normalizing features\n",
    "y = data['labels'].values  # Extracting labels\n",
    "\n",
    "# Encode labels to numeric values\n",
    "label_encoder = LabelEncoder()\n",
    "y_numeric = label_encoder.fit_transform(y)\n",
    "\n",
    "# Split into training and testing sets\n",
    "X_train, X_test, y_train, y_test = train_test_split(X, y_numeric, test_size=0.2, random_state=42)\n",
    "\n",
    "# Initialize weights, bias, and learning rate\n",
    "num_features = X_train.shape[1]\n",
    "num_classes = len(np.unique(y_numeric))\n",
    "weights = np.random.randn(num_features, num_classes)  # Initialize weights randomly\n",
    "bias = np.zeros(num_classes)  # Initialize bias to zeros\n",
    "learning_rate = 0.01  # Set learning rate\n",
    "\n",
    "# Activation function (sigmoid)\n",
    "def activation(z):\n",
    "    return 1 / (1 + np.exp(-z))\n",
    "\n",
    "# Training loop\n",
    "for epoch in range(20):  # Run for 20 epochs\n",
    "    for i in range(X_train.shape[0]):\n",
    "        z = np.dot(X_train[i], weights) + bias  # Linear combination of inputs and weights\n",
    "        y_pred = activation(z)  # Apply activation function\n",
    "        \n",
    "        # Convert predicted probabilities to the predicted class (argmax)\n",
    "        y_pred_class = np.argmax(y_pred)\n",
    "        \n",
    "        # If the predicted class is not equal to the true class, update weights\n",
    "        if y_pred_class != y_train[i]:\n",
    "            # Update weights for the true class\n",
    "            weights[:, y_train[i]] += learning_rate * X_train[i]\n",
    "            # Subtract from the weights of the predicted (incorrect) class\n",
    "            weights[:, y_pred_class] -= learning_rate * X_train[i]\n",
    "\n",
    "# Prediction on test data\n",
    "z_test = np.dot(X_test, weights) + bias\n",
    "y_test_pred = activation(z_test)\n",
    "\n",
    "# Convert predictions to class labels\n",
    "y_test_pred_class = np.argmax(y_test_pred, axis=1)\n",
    "\n",
    "# Calculate accuracy\n",
    "accuracy = np.mean(y_test_pred_class == y_test)\n",
    "print(f\"Test accuracy: {accuracy * 100:.2f}%\")"
   ]
  },
  {
   "cell_type": "code",
   "execution_count": 11,
   "id": "132cb126",
   "metadata": {},
   "outputs": [
    {
     "name": "stdout",
     "output_type": "stream",
     "text": [
      "Confusion Matrix:\n",
      "[[551   0   0 ...   4   0   0]\n",
      " [  0 503   1 ...   0   0   0]\n",
      " [  0   1 550 ...   0   0   0]\n",
      " ...\n",
      " [  8   0   0 ... 529   0   0]\n",
      " [  3   0   0 ...   1 564   0]\n",
      " [  0   0   3 ...   0   0 554]]\n",
      "Classification Report:\n",
      "              precision    recall  f1-score   support\n",
      "\n",
      "           !       0.83      0.92      0.87       602\n",
      "           \"       0.90      0.90      0.90       556\n",
      "           #       0.91      0.95      0.93       579\n",
      "           $       0.94      0.90      0.92       583\n",
      "           %       0.95      0.90      0.92       617\n",
      "           &       0.93      0.85      0.89       566\n",
      "           '       0.86      0.32      0.47       617\n",
      "           (       0.97      0.88      0.92       587\n",
      "           )       0.96      0.87      0.91       591\n",
      "           *       0.74      0.92      0.82       624\n",
      "           +       0.95      0.96      0.95       626\n",
      "           ,       0.51      0.95      0.67       583\n",
      "           -       0.72      0.91      0.80       634\n",
      "           .       0.82      0.84      0.83       574\n",
      "           /       0.85      0.84      0.84       597\n",
      "           0       0.52      0.66      0.58       570\n",
      "           1       0.68      0.77      0.72       589\n",
      "           2       0.97      0.84      0.90       613\n",
      "           3       0.95      0.88      0.91       600\n",
      "           4       0.89      0.92      0.91       581\n",
      "           5       0.86      0.85      0.85       588\n",
      "           6       0.88      0.89      0.88       634\n",
      "           7       0.94      0.87      0.91       595\n",
      "           8       0.92      0.76      0.83       586\n",
      "           9       0.92      0.87      0.89       620\n",
      "           :       0.95      0.98      0.96       615\n",
      "           ;       0.96      0.93      0.94       584\n",
      "           <       0.93      0.98      0.96       595\n",
      "           =       0.96      0.96      0.96       613\n",
      "           >       0.97      0.97      0.97       622\n",
      "           ?       0.94      0.94      0.94       612\n",
      "           @       0.88      0.91      0.89       594\n",
      "           A       0.92      0.86      0.89       547\n",
      "           B       0.70      0.90      0.79       585\n",
      "           C       0.52      0.85      0.64       547\n",
      "           D       0.86      0.87      0.87       571\n",
      "           E       0.88      0.88      0.88       542\n",
      "           F       0.82      0.90      0.86       577\n",
      "           G       0.90      0.76      0.82       600\n",
      "           H       0.85      0.87      0.86       565\n",
      "           I       0.81      0.18      0.29       586\n",
      "           J       0.77      0.76      0.76       576\n",
      "           K       0.85      0.87      0.86       577\n",
      "           L       0.88      0.94      0.91       574\n",
      "           M       0.89      0.81      0.85       565\n",
      "           N       0.89      0.87      0.88       578\n",
      "           O       0.69      0.40      0.51       618\n",
      "           P       0.84      0.86      0.85       604\n",
      "           Q       0.79      0.87      0.83       590\n",
      "           R       0.85      0.90      0.87       595\n",
      "           S       0.52      0.89      0.66       605\n",
      "           T       0.90      0.69      0.78       567\n",
      "           U       0.61      0.90      0.72       615\n",
      "           V       0.54      0.72      0.62       550\n",
      "           W       0.72      0.21      0.32       555\n",
      "           X       0.64      0.59      0.62       602\n",
      "           Y       0.84      0.87      0.86       529\n",
      "           Z       0.59      0.68      0.63       593\n",
      "           [       0.94      0.82      0.87       583\n",
      "           \\       0.91      0.92      0.92       576\n",
      "           ]       0.78      0.92      0.84       578\n",
      "           ^       0.94      0.98      0.96       592\n",
      "           _       0.88      0.66      0.75       572\n",
      "           `       0.96      0.93      0.95       550\n",
      "           a       0.90      0.83      0.86       522\n",
      "           b       0.94      0.86      0.90       590\n",
      "           c       0.70      0.32      0.44       587\n",
      "           d       0.92      0.81      0.86       554\n",
      "           e       0.93      0.78      0.85       578\n",
      "           f       0.85      0.77      0.80       588\n",
      "           g       0.86      0.79      0.82       630\n",
      "           h       0.92      0.81      0.86       598\n",
      "           i       0.91      0.78      0.84       558\n",
      "           j       0.74      0.85      0.79       601\n",
      "           k       0.90      0.86      0.88       594\n",
      "           l       0.74      0.21      0.32       540\n",
      "           m       0.87      0.89      0.88       565\n",
      "           n       0.90      0.83      0.86       575\n",
      "           o       0.53      0.73      0.62       551\n",
      "           p       0.88      0.82      0.85       578\n",
      "           q       0.85      0.87      0.86       567\n",
      "           r       0.86      0.81      0.83       554\n",
      "           s       0.69      0.39      0.50       561\n",
      "           t       0.54      0.91      0.68       588\n",
      "           u       0.88      0.51      0.65       614\n",
      "           v       0.65      0.27      0.39       571\n",
      "           w       0.50      0.89      0.64       503\n",
      "           x       0.62      0.75      0.68       602\n",
      "           y       0.84      0.83      0.83       570\n",
      "           z       0.58      0.49      0.53       501\n",
      "           {       0.95      0.95      0.95       588\n",
      "           |       0.47      0.92      0.63       578\n",
      "           }       0.96      0.91      0.93       619\n",
      "           ~       0.95      0.95      0.95       583\n",
      "\n",
      "    accuracy                           0.80     54819\n",
      "   macro avg       0.82      0.80      0.80     54819\n",
      "weighted avg       0.82      0.80      0.80     54819\n",
      "\n"
     ]
    }
   ],
   "source": [
    "# Convert probabilities to predicted class labels\n",
    "y_test_pred_class = np.argmax(y_test_pred, axis=1)\n",
    "\n",
    "# Now you can use the confusion matrix and classification report\n",
    "cm = confusion_matrix(y_test, y_test_pred_class)\n",
    "print(\"Confusion Matrix:\")\n",
    "print(cm)\n",
    "\n",
    "print(\"Classification Report:\")\n",
    "print(classification_report(y_test, y_test_pred_class, target_names=label_encoder.classes_))"
   ]
  },
  {
   "cell_type": "code",
   "execution_count": 13,
   "id": "096a73a7",
   "metadata": {},
   "outputs": [
    {
     "name": "stdout",
     "output_type": "stream",
     "text": [
      "  Actual Predicted  Correct\n",
      "0      &         &     True\n",
      "1      '         '     True\n",
      "2      i         i     True\n",
      "3      v         V    False\n",
      "4      /         /     True\n",
      "5      _         _     True\n",
      "6      S         t    False\n",
      "7      g         ,    False\n",
      "8      ,         ,     True\n",
      "9      h         H    False\n"
     ]
    }
   ],
   "source": [
    "# Convert predicted probabilities to class labels\n",
    "y_test_pred_class = np.argmax(y_test_pred, axis=1)\n",
    "\n",
    "# Now you can apply inverse_transform to get the actual labels\n",
    "y_test_actual_labels = label_encoder.inverse_transform(y_test)\n",
    "y_test_pred_labels = label_encoder.inverse_transform(y_test_pred_class)\n",
    "\n",
    "# Create a DataFrame to compare actual and predicted labels\n",
    "results_df = pd.DataFrame({\n",
    "    'Actual': y_test_actual_labels,\n",
    "    'Predicted': y_test_pred_labels,\n",
    "    'Correct': y_test_actual_labels == y_test_pred_labels\n",
    "})\n",
    "\n",
    "print(results_df.head(10))\n"
   ]
  },
  {
   "cell_type": "code",
   "execution_count": 14,
   "id": "9b5ebe04",
   "metadata": {},
   "outputs": [],
   "source": [
    "np.savez('perceptron_model_weights.npz', weights=weights, bias=bias)"
   ]
  },
  {
   "cell_type": "code",
   "execution_count": null,
   "id": "725b876d",
   "metadata": {},
   "outputs": [],
   "source": []
  }
 ],
 "metadata": {
  "kernelspec": {
   "display_name": "Python 3 (ipykernel)",
   "language": "python",
   "name": "python3"
  },
  "language_info": {
   "codemirror_mode": {
    "name": "ipython",
    "version": 3
   },
   "file_extension": ".py",
   "mimetype": "text/x-python",
   "name": "python",
   "nbconvert_exporter": "python",
   "pygments_lexer": "ipython3",
   "version": "3.11.5"
  }
 },
 "nbformat": 4,
 "nbformat_minor": 5
}
